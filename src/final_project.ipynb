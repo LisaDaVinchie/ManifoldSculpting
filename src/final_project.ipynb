{
 "cells": [
  {
   "cell_type": "code",
   "execution_count": 1,
   "metadata": {},
   "outputs": [],
   "source": [
    "import numpy as np\n",
    "import matplotlib.pyplot as plt\n",
    "from sklearn.neighbors import NearestNeighbors"
   ]
  },
  {
   "cell_type": "code",
   "execution_count": 2,
   "metadata": {},
   "outputs": [],
   "source": [
    "def swiss_roll(N):\n",
    "    dataset = np.ndarray((N, 3))\n",
    "    phi = np.random.uniform(1.5 * np.pi, 4.5 * np.pi, N)\n",
    "\n",
    "    dataset[:, 0] = phi * np.cos(phi)\n",
    "    dataset[:, 1] = phi * np.sin(phi)\n",
    "    dataset[:, 2] = np.random.uniform(0, 10, N)\n",
    "\n",
    "    return dataset"
   ]
  },
  {
   "cell_type": "code",
   "execution_count": 3,
   "metadata": {},
   "outputs": [],
   "source": [
    "X = swiss_roll(100)"
   ]
  },
  {
   "cell_type": "code",
   "execution_count": 4,
   "metadata": {},
   "outputs": [],
   "source": [
    "# Step 1: Find the k nearest neighbors of each point\n",
    "n_neighbors = 10\n",
    "nbrs = NearestNeighbors(n_neighbors=n_neighbors, metric='euclidean').fit(X)\n",
    "\n",
    "distances, indexes = nbrs.kneighbors(X)"
   ]
  },
  {
   "cell_type": "code",
   "execution_count": 5,
   "metadata": {},
   "outputs": [],
   "source": [
    "# Step 2: Compute relationships between neighbors\n",
    "\n",
    "def calculate_angle(A, B, C):\n",
    "    BA = A - B\n",
    "    BC = C - B\n",
    "\n",
    "    dot_product = np.dot(BA, BC)\n",
    "    norm_product = np.linalg.norm(BA) * np.linalg.norm(BC)\n",
    "    cosine_angle = dot_product / norm_product\n",
    "    angle = np.arccos(cosine_angle)\n",
    "\n",
    "    return angle\n",
    "\n",
    "\n"
   ]
  },
  {
   "cell_type": "code",
   "execution_count": 6,
   "metadata": {},
   "outputs": [],
   "source": [
    "# Given two points A and B, find the point C that is most collinear with A and B, chosen within a list\n",
    "def most_collinear_point(point1, point2, set_of_points):\n",
    "    max_angle = 0\n",
    "    collinear_idx = -1\n",
    "    for i in range(len(set_of_points)):\n",
    "        if(np.array_equal(set_of_points[i, :], point1) or np.array_equal(set_of_points[i, :], point2)):\n",
    "            # print(\"Skipping calculation for point1 or point2\")\n",
    "            continue\n",
    "        else:\n",
    "            angle = calculate_angle(point1, point2, set_of_points[i])\n",
    "\n",
    "        if angle > max_angle:\n",
    "            max_angle = angle\n",
    "            collinear_idx = i\n",
    "    \n",
    "    return max_angle, collinear_idx"
   ]
  },
  {
   "cell_type": "code",
   "execution_count": 7,
   "metadata": {},
   "outputs": [],
   "source": [
    "def compute_relationships_points(dataset, nn_indices):\n",
    "    n_neighbors = nn_indices.shape[1]\n",
    "    collinear_neighbors = np.empty((nn_indices.shape[0], n_neighbors - 1))\n",
    "    angles = np.ones((nn_indices.shape[0], n_neighbors - 1)) * (-1)\n",
    "\n",
    "    for i in range(nn_indices.shape[0]):\n",
    "\n",
    "        # indexes of the nearest neighbors of the point A = dataset[i, :]\n",
    "        nearest_neighbors_A = nn_indices[i, 1:]\n",
    "\n",
    "        # Coordinates of the nearest neighbors of A\n",
    "        B = dataset[nearest_neighbors_A, :]\n",
    "    \n",
    "        # For each neighbor of A\n",
    "        for j in range(n_neighbors - 1):\n",
    "            # Coordinates of the nearest neighbors of B\n",
    "            nearest_neighbors_B = nn_indices[nearest_neighbors_A[j]]\n",
    "\n",
    "            # Find the point C that is most collinear with A and B\n",
    "            angle, collinear_idx = most_collinear_point(dataset[i, :], B[j, :], dataset[nearest_neighbors_B])\n",
    "            angles[i, j] = angle\n",
    "\n",
    "            # store index and angle of the most collinear point\n",
    "            collinear_neighbors[i, j] = collinear_idx\n",
    "    return collinear_neighbors, angles\n",
    "\n",
    "coll_neigh, angles = compute_relationships_points(X, indexes)"
   ]
  }
 ],
 "metadata": {
  "kernelspec": {
   "display_name": "UL_venv",
   "language": "python",
   "name": "python3"
  },
  "language_info": {
   "codemirror_mode": {
    "name": "ipython",
    "version": 3
   },
   "file_extension": ".py",
   "mimetype": "text/x-python",
   "name": "python",
   "nbconvert_exporter": "python",
   "pygments_lexer": "ipython3",
   "version": "3.11.8"
  }
 },
 "nbformat": 4,
 "nbformat_minor": 2
}
