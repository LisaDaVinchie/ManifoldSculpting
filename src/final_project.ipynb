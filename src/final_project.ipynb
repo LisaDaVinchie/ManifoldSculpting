{
 "cells": [
  {
   "cell_type": "code",
   "execution_count": 1,
   "metadata": {},
   "outputs": [],
   "source": [
    "import numpy as np\n",
    "import matplotlib.pyplot as plt\n",
    "from mpl_toolkits.mplot3d import Axes3D\n",
    "\n",
    "import ManifoldSculpting_v2 as ms\n",
    "from ManifoldSculpting_gabri import ManifoldSculpting as ms_gabri\n",
    "\n",
    "from sklearn.decomposition import PCA\n",
    "from sklearn.manifold import Isomap, LocallyLinearEmbedding\n",
    "\n",
    "from sklearn.preprocessing import StandardScaler, minmax_scale\n",
    "from sklearn.metrics import mean_squared_error\n",
    "\n",
    "import os\n",
    "\n",
    "import time"
   ]
  },
  {
   "cell_type": "code",
   "execution_count": 2,
   "metadata": {},
   "outputs": [],
   "source": [
    "data_folder = '../data/'\n",
    "X = np.load(data_folder + \"SwissRoll3D/N_2000.npy\")\n",
    "X_2D = np.load(data_folder + \"SwissRoll2D/N_2000.npy\")"
   ]
  },
  {
   "cell_type": "code",
   "execution_count": 7,
   "metadata": {},
   "outputs": [],
   "source": [
    "cov = np.cov(X.T)\n",
    "eigval,eig = np.linalg.eig(cov)\n",
    "index = np.argsort(-eigval)\n",
    "eigvec = np.copy(eig[:,index].astype(np.float32))\n",
    "\n",
    "X_pca = X@eigvec"
   ]
  },
  {
   "cell_type": "code",
   "execution_count": 25,
   "metadata": {},
   "outputs": [
    {
     "name": "stdout",
     "output_type": "stream",
     "text": [
      "[2]\n"
     ]
    },
    {
     "name": "stderr",
     "output_type": "stream",
     "text": [
      "/var/folders/q5/4d_bg8zn7h74dy6rjkx80q4w0000gn/T/ipykernel_87971/3812770426.py:51: RuntimeWarning: divide by zero encountered in scalar divide\n",
      "  theta = np.arctan(v / u)\n"
     ]
    }
   ],
   "source": [
    "def alignAxesPC(data, Dpres: list):\n",
    "\n",
    "        \"\"\"Aligns the axes of the dataset P using the Principal Components method.\n",
    "\n",
    "        Parameters:\n",
    "        - data: dataset to be aligned, with shape (N, D), where N is the number of points and D is the number of dimensions\n",
    "        - Dpres: number of dimensions to be preserved\n",
    "        \"\"\"\n",
    "\n",
    "        N_points = data.shape[0]\n",
    "        D = data.shape[1]\n",
    "        Dscal = np.arange(D)\n",
    "        Dscal = np.delete(Dscal, Dpres)\n",
    "        print(Dscal)\n",
    "        # Center the data\n",
    "        mean: float = np.mean(data, axis=0) # Mean for every dimension\n",
    "        data -= mean\n",
    "\n",
    "        Q = np.copy(data)\n",
    "\n",
    "        G = np.eye(D) # Matrix of standard basis vectors\n",
    "\n",
    "        # Find principal components\n",
    "        for k in len(Dpres):\n",
    "            c = np.random.rand(D) # Random vector of dimension D\n",
    "\n",
    "            for _ in range(10):\n",
    "                t = np.zeros(D)\n",
    "\n",
    "                for q in Q: # For each row of Q\n",
    "                    t += np.dot(q, c) * q\n",
    "                c = t / np.linalg.norm(t)\n",
    "\n",
    "            for q in Q: # For each row of Q\n",
    "                q -= np.dot(c, q) * c\n",
    "            \n",
    "            a = G[:, k]\n",
    "\n",
    "            b = (c - np.dot(a, c) * a) / np.linalg.norm(c - np.dot(a, c) * a)\n",
    "\n",
    "            phi  = np.arctan(np.dot(b, c) / np.dot(a, c))\n",
    "\n",
    "            for j in range(k, len(Dscal)):\n",
    "                u = np.dot(a, G[:, j])\n",
    "                v = np.dot(b, G[:, j])\n",
    "\n",
    "                G[:, j] -= u * a\n",
    "                G[:, j] -= v * b\n",
    "\n",
    "                r = np.sqrt(u * u + v * v)\n",
    "                theta = np.arctan(v / u)\n",
    "\n",
    "                u = r * np.cos(theta + phi)\n",
    "                v = r * np.sin(theta + phi)\n",
    "\n",
    "                G[:, j] += u * a\n",
    "                G[:, j] += v * b\n",
    "        \n",
    "        for i in range(N_points):\n",
    "            for j in range(D):\n",
    "                data[i, j] = np.dot(data[i, :], G[:, j]) + mean[j]\n",
    "        \n",
    "        return data\n",
    "\n",
    "X_aligned = alignAxesPC(X, [0, 1])"
   ]
  },
  {
   "cell_type": "code",
   "execution_count": 22,
   "metadata": {},
   "outputs": [
    {
     "data": {
      "image/png": "[encoded data removed]",
      "text/plain": [
       "<Figure size 640x480 with 1 Axes>"
      ]
     },
     "metadata": {},
     "output_type": "display_data"
    }
   ],
   "source": [
    "fig = plt.figure()\n",
    "ax = fig.add_subplot(111, projection='3d')\n",
    "# ax1 = fig.add_subplot(111, projection='3d')\n",
    "# ax.scatter(X_pca[:,0], X_pca[:,1], X_pca[:,2], c=X_2D[:,0], cmap='viridis')\n",
    "ax.scatter(X_aligned[:,0], X_aligned[:,1], X_aligned[:,2], c=X_aligned[:,0], cmap='viridis')\n",
    "ax.set_xlabel('X')\n",
    "ax.set_ylabel('Y')\n",
    "ax.set_zlabel('Z')\n",
    "\n",
    "ax.view_init(90, 270)\n"
   ]
  }
 ],
 "metadata": {
  "kernelspec": {
   "display_name": "UL_venv",
   "language": "python",
   "name": "python3"
  },
  "language_info": {
   "codemirror_mode": {
    "name": "ipython",
    "version": 3
   },
   "file_extension": ".py",
   "mimetype": "text/x-python",
   "name": "python",
   "nbconvert_exporter": "python",
   "pygments_lexer": "ipython3",
   "version": "3.11.8"
  }
 },
 "nbformat": 4,
 "nbformat_minor": 2
}
